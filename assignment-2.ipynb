{
 "cells": [
  {
   "cell_type": "code",
   "execution_count": 23,
   "id": "3ab1a2e3-7df5-49dc-adce-a36ba02d4d0a",
   "metadata": {},
   "outputs": [
    {
     "name": "stdin",
     "output_type": "stream",
     "text": [
      "enter thge number 10\n"
     ]
    },
    {
     "name": "stdout",
     "output_type": "stream",
     "text": [
      "1\n",
      "2\n",
      "3\n",
      "4\n",
      "5\n",
      "6\n",
      "7\n",
      "8\n",
      "9\n",
      "10\n"
     ]
    }
   ],
   "source": [
    "#Q.1\n",
    "n=int(input(\"enter thge number\"))\n",
    "for t in range(1,n+1):\n",
    "  print(t)"
   ]
  },
  {
   "cell_type": "code",
   "execution_count": 39,
   "id": "3348edba-3457-4f08-be7a-15b21144b2b4",
   "metadata": {},
   "outputs": [
    {
     "name": "stdin",
     "output_type": "stream",
     "text": [
      "enter the number 12\n"
     ]
    },
    {
     "name": "stdout",
     "output_type": "stream",
     "text": [
      "12\n",
      "11\n",
      "10\n",
      "9\n",
      "8\n",
      "7\n",
      "6\n",
      "5\n",
      "4\n",
      "3\n",
      "2\n",
      "1\n"
     ]
    }
   ],
   "source": [
    "#Q.2\n",
    "q=int(input(\"enter the number\"))\n",
    "for t in range(q,0,-1):\n",
    "    print(t)"
   ]
  },
  {
   "cell_type": "code",
   "execution_count": 76,
   "id": "ca1f8bda-2723-4b3c-bdfe-ce14ee0cf74b",
   "metadata": {},
   "outputs": [
    {
     "name": "stdout",
     "output_type": "stream",
     "text": [
      "`\n",
      "a\n",
      "b\n",
      "c\n",
      "d\n",
      "e\n",
      "f\n",
      "g\n",
      "h\n",
      "i\n",
      "j\n",
      "k\n",
      "l\n",
      "m\n",
      "n\n",
      "o\n",
      "p\n",
      "q\n",
      "r\n",
      "s\n",
      "t\n",
      "u\n",
      "v\n",
      "w\n",
      "x\n",
      "y\n",
      "z\n"
     ]
    }
   ],
   "source": [
    "#Q.3 \n",
    "for i in range(96,123):\n",
    "    print(chr(i))\n",
    "  "
   ]
  },
  {
   "cell_type": "code",
   "execution_count": 126,
   "id": "cd478d44-e227-4e40-ab91-9c11e04f3696",
   "metadata": {},
   "outputs": [
    {
     "name": "stdout",
     "output_type": "stream",
     "text": [
      "2\n",
      "4\n",
      "6\n",
      "8\n",
      "10\n",
      "12\n",
      "14\n",
      "16\n",
      "18\n",
      "20\n",
      "22\n",
      "24\n",
      "26\n",
      "28\n",
      "30\n",
      "32\n",
      "34\n",
      "36\n",
      "38\n",
      "40\n",
      "42\n",
      "44\n",
      "46\n",
      "48\n",
      "50\n",
      "52\n",
      "54\n",
      "56\n",
      "58\n",
      "60\n",
      "62\n",
      "64\n",
      "66\n",
      "68\n",
      "70\n",
      "72\n",
      "74\n",
      "76\n",
      "78\n",
      "80\n",
      "82\n",
      "84\n",
      "86\n",
      "88\n",
      "90\n",
      "92\n",
      "94\n",
      "96\n",
      "98\n",
      "100\n",
      "  \n"
     ]
    }
   ],
   "source": [
    "#Q.4 \n",
    "for t in range(1,101):\n",
    " if(t%2==0):\n",
    "  print(t)\n",
    "else:\n",
    "    print(\" \")    "
   ]
  },
  {
   "cell_type": "code",
   "execution_count": 15,
   "id": "8e2ee279-9a2c-4cd6-8be2-24d9a568a6fb",
   "metadata": {},
   "outputs": [
    {
     "name": "stdin",
     "output_type": "stream",
     "text": [
      "enter the number 11\n"
     ]
    },
    {
     "name": "stdout",
     "output_type": "stream",
     "text": [
      "1\n",
      "4\n",
      "9\n",
      "16\n",
      "25\n",
      "36\n"
     ]
    }
   ],
   "source": [
    "#Q.5\n",
    "sum=0\n",
    "h=int(input(\"enter the number\"))\n",
    "for g in range(1,h+1):\n",
    "    if(g%2!=0):\n",
    "        sum=sum+g\n",
    "        print(sum)\n",
    "\n",
    "        \n",
    "\n"
   ]
  },
  {
   "cell_type": "code",
   "execution_count": 40,
   "id": "87d02ece-07c2-4208-a412-fe0c2e92d35b",
   "metadata": {},
   "outputs": [
    {
     "name": "stdin",
     "output_type": "stream",
     "text": [
      "enter the number 88\n"
     ]
    },
    {
     "name": "stdout",
     "output_type": "stream",
     "text": [
      "2 digits have\n"
     ]
    }
   ],
   "source": [
    "#Q.6\n",
    "num=int(input(\"enter the number\"))\n",
    "a=num\n",
    "w=0\n",
    "for i in range(1,a+1):\n",
    "    w+=1\n",
    "    a=a//10 \n",
    "    if(a==0):\n",
    "      break\n",
    "print(w,\"digits have\")\n"
   ]
  },
  {
   "cell_type": "code",
   "execution_count": 62,
   "id": "a45016b8-47b5-462c-9324-a88856b21031",
   "metadata": {},
   "outputs": [
    {
     "name": "stdin",
     "output_type": "stream",
     "text": [
      "enter the number 55\n"
     ]
    },
    {
     "name": "stdout",
     "output_type": "stream",
     "text": [
      "10\n"
     ]
    }
   ],
   "source": [
    "#Q.7\n",
    "num=int(input(\"enter the number\"))\n",
    "a=num\n",
    "w=0\n",
    "for i in range(1,a+1):\n",
    "    w+=a%10 \n",
    "    a=a//10\n",
    "    if(a==0):\n",
    "     break\n",
    "print(w)"
   ]
  },
  {
   "cell_type": "code",
   "execution_count": 82,
   "id": "54ed98ed-5bc3-42be-9474-4e63c0644607",
   "metadata": {},
   "outputs": [
    {
     "name": "stdin",
     "output_type": "stream",
     "text": [
      "enter the number 678\n"
     ]
    },
    {
     "name": "stdout",
     "output_type": "stream",
     "text": [
      "6\n",
      "8\n"
     ]
    }
   ],
   "source": [
    "#Q.8\n",
    "num=int(input(\"enter the number\"))\n",
    "a=num\n",
    "first=0\n",
    "last=num%10\n",
    "for i in range(1,a+1):\n",
    "    first=a%10 \n",
    "    a=a//10\n",
    "    if(a==0):\n",
    "     break\n",
    "print(first)\n",
    "print(last)"
   ]
  },
  {
   "cell_type": "code",
   "execution_count": 83,
   "id": "0611fa40-f3e6-49dd-b4a6-a40eccffb72c",
   "metadata": {},
   "outputs": [
    {
     "name": "stdin",
     "output_type": "stream",
     "text": [
      "enter the number 2244\n"
     ]
    },
    {
     "name": "stdout",
     "output_type": "stream",
     "text": [
      "2\n",
      "4\n",
      "6\n"
     ]
    }
   ],
   "source": [
    "#Q.9\n",
    "num=int(input(\"enter the number\"))\n",
    "a=num\n",
    "first=0\n",
    "last=num%10\n",
    "for i in range(1,a+1):\n",
    "    first=a%10 \n",
    "    a=a//10\n",
    "    if(a==0):\n",
    "     break\n",
    "print(first)\n",
    "print(last)\n",
    "sum=first+last\n",
    "print(sum)\n"
   ]
  },
  {
   "cell_type": "code",
   "execution_count": 86,
   "id": "728488a9-9ba8-4cdf-a62a-858e97bc2a38",
   "metadata": {},
   "outputs": [
    {
     "name": "stdin",
     "output_type": "stream",
     "text": [
      "Enter a number:  765\n"
     ]
    },
    {
     "name": "stdout",
     "output_type": "stream",
     "text": [
      "567\n"
     ]
    }
   ],
   "source": [
    "#Q.10\n",
    "num = int(input(\"Enter a number: \"))\n",
    "reverse=0\n",
    "num_digits=len(str(num))\n",
    "\n",
    "for i in range(num_digits):\n",
    "    digit = num % 10\n",
    "    reverse = reverse*10+digit\n",
    "    num = num//10\n",
    "print(reverse)\n",
    "\n"
   ]
  },
  {
   "cell_type": "code",
   "execution_count": null,
   "id": "db0e0292-04a7-4140-88ea-f2fd9c778197",
   "metadata": {},
   "outputs": [],
   "source": []
  }
 ],
 "metadata": {
  "kernelspec": {
   "display_name": "Python 3 (ipykernel)",
   "language": "python",
   "name": "python3"
  },
  "language_info": {
   "codemirror_mode": {
    "name": "ipython",
    "version": 3
   },
   "file_extension": ".py",
   "mimetype": "text/x-python",
   "name": "python",
   "nbconvert_exporter": "python",
   "pygments_lexer": "ipython3",
   "version": "3.12.4"
  }
 },
 "nbformat": 4,
 "nbformat_minor": 5
}

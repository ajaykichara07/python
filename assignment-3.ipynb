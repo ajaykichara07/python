{
 "cells": [
  {
   "cell_type": "code",
   "execution_count": 7,
   "id": "eafd30db-607a-4252-82fa-09263b387f96",
   "metadata": {},
   "outputs": [
    {
     "name": "stdin",
     "output_type": "stream",
     "text": [
      "enter number 15\n"
     ]
    },
    {
     "name": "stdout",
     "output_type": "stream",
     "text": [
      "1\n",
      "2\n",
      "3\n",
      "4\n",
      "5\n",
      "6\n",
      "7\n",
      "8\n",
      "9\n",
      "10\n",
      "11\n",
      "12\n",
      "13\n",
      "14\n",
      "15\n"
     ]
    }
   ],
   "source": [
    "#Q.1\n",
    "n=int(input(\"enter number\"))\n",
    "i=1\n",
    "while(i<=n):\n",
    "    print(i)\n",
    "    i+=1"
   ]
  },
  {
   "cell_type": "code",
   "execution_count": 10,
   "id": "e5f7e343-6d25-4532-8223-ae7015647d97",
   "metadata": {},
   "outputs": [
    {
     "name": "stdin",
     "output_type": "stream",
     "text": [
      "enter number 14\n"
     ]
    },
    {
     "name": "stdout",
     "output_type": "stream",
     "text": [
      "14\n",
      "13\n",
      "12\n",
      "11\n",
      "10\n",
      "9\n",
      "8\n",
      "7\n",
      "6\n",
      "5\n",
      "4\n",
      "3\n",
      "2\n",
      "1\n"
     ]
    }
   ],
   "source": [
    "#Q.2\n",
    "n=int(input(\"enter number\"))\n",
    "i=1\n",
    "while(n>=i):\n",
    "    print(n)\n",
    "    n-=1"
   ]
  },
  {
   "cell_type": "code",
   "execution_count": 14,
   "id": "cdebf6e4-ad2f-410d-b066-3fe65179536e",
   "metadata": {},
   "outputs": [
    {
     "name": "stdout",
     "output_type": "stream",
     "text": [
      "`\n",
      "a\n",
      "b\n",
      "c\n",
      "d\n",
      "e\n",
      "f\n",
      "g\n",
      "h\n",
      "i\n",
      "j\n",
      "k\n",
      "l\n",
      "m\n",
      "n\n",
      "o\n",
      "p\n",
      "q\n",
      "r\n",
      "s\n",
      "t\n",
      "u\n",
      "v\n",
      "w\n",
      "x\n",
      "y\n",
      "z\n"
     ]
    }
   ],
   "source": [
    "#Q.3\n",
    "qq=96\n",
    "while(qq<=122):\n",
    " print(chr(qq))\n",
    " qq+=1"
   ]
  },
  {
   "cell_type": "code",
   "execution_count": 26,
   "id": "73363bcd-799c-4118-909c-de1db41c1d3a",
   "metadata": {},
   "outputs": [
    {
     "name": "stdout",
     "output_type": "stream",
     "text": [
      "2\n",
      "4\n",
      "6\n",
      "8\n",
      "10\n",
      "12\n",
      "14\n",
      "16\n",
      "18\n",
      "20\n",
      "22\n",
      "24\n",
      "26\n",
      "28\n",
      "30\n",
      "32\n",
      "34\n",
      "36\n",
      "38\n",
      "40\n",
      "42\n",
      "44\n",
      "46\n",
      "48\n",
      "50\n",
      "52\n",
      "54\n",
      "56\n",
      "58\n",
      "60\n",
      "62\n",
      "64\n",
      "66\n",
      "68\n",
      "70\n",
      "72\n",
      "74\n",
      "76\n",
      "78\n",
      "80\n",
      "82\n",
      "84\n",
      "86\n",
      "88\n",
      "90\n",
      "92\n",
      "94\n",
      "96\n",
      "98\n",
      "100\n"
     ]
    }
   ],
   "source": [
    "#Q.4\n",
    "q=1\n",
    "while(q<=100):\n",
    "    if(q%2==0):\n",
    "     print(q)\n",
    "    q+=1"
   ]
  },
  {
   "cell_type": "code",
   "execution_count": 34,
   "id": "e7ddbbe2-86fa-47d8-aa7e-74b51cae93a9",
   "metadata": {},
   "outputs": [
    {
     "name": "stdin",
     "output_type": "stream",
     "text": [
      "enter number 15\n"
     ]
    },
    {
     "name": "stdout",
     "output_type": "stream",
     "text": [
      "1\n",
      "\n",
      "4\n",
      "\n",
      "9\n",
      "\n",
      "16\n",
      "\n",
      "25\n",
      "\n",
      "36\n",
      "\n",
      "49\n",
      "\n",
      "64\n"
     ]
    }
   ],
   "source": [
    "#Q.5\n",
    "n=int(input(\"enter number\"))\n",
    "q=1\n",
    "summ=0\n",
    "while(q<=n):\n",
    "    if(q%2==0):\n",
    "     print(\"\")\n",
    "    else:\n",
    "     summ+=q\n",
    "     print(summ)\n",
    "    q+=1"
   ]
  },
  {
   "cell_type": "code",
   "execution_count": 10,
   "id": "e038d120-33f8-4690-9979-720515d78477",
   "metadata": {},
   "outputs": [
    {
     "name": "stdin",
     "output_type": "stream",
     "text": [
      "enter the number 444\n"
     ]
    },
    {
     "name": "stdout",
     "output_type": "stream",
     "text": [
      "3\n"
     ]
    }
   ],
   "source": [
    "#Q.6\n",
    "a=int(input(\"enter the number\"))\n",
    "i=0\n",
    "count=0\n",
    "while(a>0):\n",
    "  a=a//10\n",
    "  count+=1\n",
    "print(count)\n",
    " "
   ]
  },
  {
   "cell_type": "code",
   "execution_count": 17,
   "id": "a7a4c669-df25-4c8e-a3cb-4b2a68759936",
   "metadata": {},
   "outputs": [
    {
     "name": "stdin",
     "output_type": "stream",
     "text": [
      "enter the number 33\n"
     ]
    },
    {
     "name": "stdout",
     "output_type": "stream",
     "text": [
      "6\n"
     ]
    }
   ],
   "source": [
    "#Q.7\n",
    "a=int(input(\"enter the number\"))\n",
    "y=0\n",
    "while(a>0):\n",
    "  y+=a%10\n",
    "  a=a//10\n",
    "print(y)"
   ]
  },
  {
   "cell_type": "code",
   "execution_count": 22,
   "id": "22344e8a-1032-4ba7-bd04-6711892abede",
   "metadata": {},
   "outputs": [
    {
     "name": "stdin",
     "output_type": "stream",
     "text": [
      "enter the number 888999\n"
     ]
    },
    {
     "name": "stdout",
     "output_type": "stream",
     "text": [
      "first 8\n",
      "last 9\n"
     ]
    }
   ],
   "source": [
    "#Q.8\n",
    "a=int(input(\"enter the number\"))\n",
    "y=0\n",
    "first=0\n",
    "last=a%10\n",
    "while(a>0):\n",
    "  first=a\n",
    "  a=a//10\n",
    "print(\"first\",first)\n",
    "print(\"last\",last)"
   ]
  },
  {
   "cell_type": "code",
   "execution_count": 24,
   "id": "3f30f3e8-4033-4b10-b196-88bbb82d24f2",
   "metadata": {},
   "outputs": [
    {
     "name": "stdin",
     "output_type": "stream",
     "text": [
      "enter the number 444999\n"
     ]
    },
    {
     "name": "stdout",
     "output_type": "stream",
     "text": [
      "first 4\n",
      "last 9\n",
      "sum of first and last number is 13\n"
     ]
    }
   ],
   "source": [
    "#Q.9\n",
    "a=int(input(\"enter the number\"))\n",
    "y=0\n",
    "first=0\n",
    "last=a%10\n",
    "while(a>0):\n",
    "  first=a\n",
    "  a=a//10\n",
    "print(\"first\",first)\n",
    "print(\"last\",last)\n",
    "d=first+last\n",
    "print(\"sum of first and last number is\",d)"
   ]
  },
  {
   "cell_type": "code",
   "execution_count": 25,
   "id": "5ff18cda-ee9e-4905-a5df-85447bfedcff",
   "metadata": {},
   "outputs": [
    {
     "name": "stdin",
     "output_type": "stream",
     "text": [
      "Enter a number: 4555\n"
     ]
    },
    {
     "name": "stdout",
     "output_type": "stream",
     "text": [
      "Reversed number: 5554\n"
     ]
    }
   ],
   "source": [
    "#Q10\n",
    "number = int(input(\"Enter a number:\"))\n",
    "reverse = 0\n",
    "while(number!= 0):\n",
    "    remainder = number%10\n",
    "    reverse = reverse*10 + remainder\n",
    "    number = number//10\n",
    "print(\"Reversed number:\",reverse)\n"
   ]
  },
  {
   "cell_type": "code",
   "execution_count": 36,
   "id": "44488e7f-65c9-4b97-ac5b-b2b644883b1b",
   "metadata": {},
   "outputs": [
    {
     "name": "stdin",
     "output_type": "stream",
     "text": [
      "number 3\n",
      "pow 3\n"
     ]
    },
    {
     "name": "stdout",
     "output_type": "stream",
     "text": [
      "27\n"
     ]
    }
   ],
   "source": [
    "#Q.11\n",
    "k=int(input(\"number\"))\n",
    "j=int(input(\"pow\"))\n",
    "i=0\n",
    "a=1\n",
    "while(i<j):\n",
    "    a=a*k\n",
    "    i+=1\n",
    "print(a)"
   ]
  },
  {
   "cell_type": "code",
   "execution_count": 38,
   "id": "a6d75ba1-d52b-459c-8864-026cb2ee532f",
   "metadata": {},
   "outputs": [
    {
     "name": "stdin",
     "output_type": "stream",
     "text": [
      "Enter a number: 8\n"
     ]
    },
    {
     "name": "stdout",
     "output_type": "stream",
     "text": [
      "Factors of 8 are:\n",
      "1\n",
      "2\n",
      "4\n",
      "8\n"
     ]
    }
   ],
   "source": [
    "#Q.12\n",
    "number = int(input(\"Enter a number:\"))\n",
    "i = 1\n",
    "print(\"Factors of\",number,\"are:\")\n",
    "while i <= number:\n",
    "    if(number%i == 0):\n",
    "        print(i)\n",
    "    i += 1\n"
   ]
  },
  {
   "cell_type": "code",
   "execution_count": 39,
   "id": "04b0bb90-4b1d-4c2c-af31-bbbcbd58ca8c",
   "metadata": {},
   "outputs": [
    {
     "name": "stdin",
     "output_type": "stream",
     "text": [
      "Enter a number:  5\n"
     ]
    },
    {
     "name": "stdout",
     "output_type": "stream",
     "text": [
      "The factorial of number is: 120\n"
     ]
    }
   ],
   "source": [
    "#Q.13\n",
    "number = int(input(\"Enter a number: \"))\n",
    "factorial = 1\n",
    "i = 1\n",
    "while(i<=number):\n",
    "    factorial*=i\n",
    "    i+=1\n",
    "print(\"The factorial of number is:\",factorial)\n"
   ]
  },
  {
   "cell_type": "code",
   "execution_count": 40,
   "id": "7f249038-9353-44e8-ba71-cf6e6288db2a",
   "metadata": {},
   "outputs": [
    {
     "name": "stdin",
     "output_type": "stream",
     "text": [
      "Enter the first number:  22\n",
      "Enter the second number:  33\n"
     ]
    },
    {
     "name": "stdout",
     "output_type": "stream",
     "text": [
      "The LCM of 22 and 33 is: 66\n"
     ]
    }
   ],
   "source": [
    "#Q.14\n",
    "num1 = int(input(\"Enter the first number: \"))\n",
    "num2 = int(input(\"Enter the second number: \"))\n",
    "\n",
    "lcm = max(num1, num2)\n",
    "\n",
    "while lcm % num1 != 0 or lcm % num2 != 0:\n",
    "    lcm += 1\n",
    "\n",
    "print(\"The LCM of\", num1, \"and\", num2, \"is:\", lcm)\n"
   ]
  },
  {
   "cell_type": "code",
   "execution_count": 46,
   "id": "16223b43-8ed1-4c5f-a569-5e1b081e9599",
   "metadata": {},
   "outputs": [
    {
     "name": "stdin",
     "output_type": "stream",
     "text": [
      "enter number 77\n"
     ]
    },
    {
     "name": "stdout",
     "output_type": "stream",
     "text": [
      "7\n",
      "11\n",
      "not prime\n"
     ]
    }
   ],
   "source": [
    "#Q.15\n",
    "h=int(input(\"enter number\"))\n",
    "i=2\n",
    "check=0\n",
    "while(i<h):\n",
    "    if(h%i==0):\n",
    "        check+=1\n",
    "        print(check)\n",
    "    i+=1\n",
    "if(check==0):\n",
    "    print(\"prime\")\n",
    "else:\n",
    "    print(\"not prime\")"
   ]
  },
  {
   "cell_type": "code",
   "execution_count": null,
   "id": "112d4bc9-324c-4d3a-a0b1-93cb811fb6e3",
   "metadata": {},
   "outputs": [],
   "source": []
  }
 ],
 "metadata": {
  "kernelspec": {
   "display_name": "Python 3 (ipykernel)",
   "language": "python",
   "name": "python3"
  },
  "language_info": {
   "codemirror_mode": {
    "name": "ipython",
    "version": 3
   },
   "file_extension": ".py",
   "mimetype": "text/x-python",
   "name": "python",
   "nbconvert_exporter": "python",
   "pygments_lexer": "ipython3",
   "version": "3.12.4"
  }
 },
 "nbformat": 4,
 "nbformat_minor": 5
}
